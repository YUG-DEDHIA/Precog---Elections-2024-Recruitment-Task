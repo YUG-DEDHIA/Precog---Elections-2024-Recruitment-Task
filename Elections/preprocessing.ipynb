{
 "cells": [
  {
   "cell_type": "code",
   "execution_count": 32,
   "id": "7325665d",
   "metadata": {},
   "outputs": [
    {
     "name": "stderr",
     "output_type": "stream",
     "text": [
      "2023-07-31 00:04:54.845615: I tensorflow/core/platform/cpu_feature_guard.cc:193] This TensorFlow binary is optimized with oneAPI Deep Neural Network Library (oneDNN) to use the following CPU instructions in performance-critical operations:  AVX2 AVX512F AVX512_VNNI FMA\n",
      "To enable them in other operations, rebuild TensorFlow with the appropriate compiler flags.\n",
      "2023-07-31 00:04:55.073964: I tensorflow/core/util/port.cc:104] oneDNN custom operations are on. You may see slightly different numerical results due to floating-point round-off errors from different computation orders. To turn them off, set the environment variable `TF_ENABLE_ONEDNN_OPTS=0`.\n",
      "2023-07-31 00:04:55.101314: W tensorflow/compiler/xla/stream_executor/platform/default/dso_loader.cc:64] Could not load dynamic library 'libcudart.so.11.0'; dlerror: libcudart.so.11.0: cannot open shared object file: No such file or directory\n",
      "2023-07-31 00:04:55.101334: I tensorflow/compiler/xla/stream_executor/cuda/cudart_stub.cc:29] Ignore above cudart dlerror if you do not have a GPU set up on your machine.\n",
      "2023-07-31 00:04:55.947999: W tensorflow/compiler/xla/stream_executor/platform/default/dso_loader.cc:64] Could not load dynamic library 'libnvinfer.so.7'; dlerror: libnvinfer.so.7: cannot open shared object file: No such file or directory\n",
      "2023-07-31 00:04:55.948065: W tensorflow/compiler/xla/stream_executor/platform/default/dso_loader.cc:64] Could not load dynamic library 'libnvinfer_plugin.so.7'; dlerror: libnvinfer_plugin.so.7: cannot open shared object file: No such file or directory\n",
      "2023-07-31 00:04:55.948070: W tensorflow/compiler/tf2tensorrt/utils/py_utils.cc:38] TF-TRT Warning: Cannot dlopen some TensorRT libraries. If you would like to use Nvidia GPU with TensorRT, please make sure the missing libraries mentioned above are installed properly.\n"
     ]
    }
   ],
   "source": [
    "import pandas as pd\n",
    "import numpy as np\n",
    "import matplotlib\n",
    "from matplotlib import pyplot as plt\n",
    "import xlrd\n",
    "import sklearn\n",
    "import tensorflow as tf\n",
    "from tensorflow import keras\n",
    "from sklearn.model_selection import train_test_split\n",
    "from sklearn.preprocessing import LabelEncoder"
   ]
  },
  {
   "cell_type": "code",
   "execution_count": 33,
   "id": "97f90be9",
   "metadata": {},
   "outputs": [
    {
     "name": "stderr",
     "output_type": "stream",
     "text": [
      "/tmp/ipykernel_30075/2516659278.py:1: DtypeWarning: Columns (17,36,37,38,39,40,41,42,43) have mixed types. Specify dtype option on import or set low_memory=False.\n",
      "  df=pd.read_csv('All_States_GE.csv')\n"
     ]
    }
   ],
   "source": [
    "df=pd.read_csv('All_States_GE.csv')"
   ]
  },
  {
   "cell_type": "code",
   "execution_count": 34,
   "id": "68a9fd41",
   "metadata": {},
   "outputs": [
    {
     "data": {
      "text/plain": [
       "Index(['State_Name', 'Assembly_No', 'Constituency_No', 'Year', 'month',\n",
       "       'Poll_No', 'DelimID', 'Position', 'Candidate', 'Sex', 'Party', 'Votes',\n",
       "       'Candidate_Type', 'Valid_Votes', 'Electors', 'Constituency_Name',\n",
       "       'Constituency_Type', 'Sub_Region', 'N_Cand', 'Turnout_Percentage',\n",
       "       'Vote_Share_Percentage', 'Deposit_Lost', 'Margin', 'Margin_Percentage',\n",
       "       'ENOP', 'pid', 'Party_Type_TCPD', 'Party_ID', 'last_poll', 'Contested',\n",
       "       'Last_Party', 'Last_Party_ID', 'Last_Constituency_Name',\n",
       "       'Same_Constituency', 'Same_Party', 'No_Terms', 'Turncoat', 'Incumbent',\n",
       "       'Recontest', 'MyNeta_education', 'TCPD_Prof_Main',\n",
       "       'TCPD_Prof_Main_Desc', 'TCPD_Prof_Second', 'TCPD_Prof_Second_Desc',\n",
       "       'Election_Type'],\n",
       "      dtype='object')"
      ]
     },
     "execution_count": 34,
     "metadata": {},
     "output_type": "execute_result"
    }
   ],
   "source": [
    "df.columns"
   ]
  },
  {
   "cell_type": "code",
   "execution_count": 35,
   "id": "197460b4",
   "metadata": {},
   "outputs": [
    {
     "data": {
      "text/html": [
       "<div>\n",
       "<style scoped>\n",
       "    .dataframe tbody tr th:only-of-type {\n",
       "        vertical-align: middle;\n",
       "    }\n",
       "\n",
       "    .dataframe tbody tr th {\n",
       "        vertical-align: top;\n",
       "    }\n",
       "\n",
       "    .dataframe thead th {\n",
       "        text-align: right;\n",
       "    }\n",
       "</style>\n",
       "<table border=\"1\" class=\"dataframe\">\n",
       "  <thead>\n",
       "    <tr style=\"text-align: right;\">\n",
       "      <th></th>\n",
       "      <th>State_Name</th>\n",
       "      <th>Assembly_No</th>\n",
       "      <th>Constituency_No</th>\n",
       "      <th>Year</th>\n",
       "      <th>month</th>\n",
       "      <th>Poll_No</th>\n",
       "      <th>DelimID</th>\n",
       "      <th>Position</th>\n",
       "      <th>Sex</th>\n",
       "      <th>Party</th>\n",
       "      <th>...</th>\n",
       "      <th>No_Terms</th>\n",
       "      <th>Turncoat</th>\n",
       "      <th>Incumbent</th>\n",
       "      <th>Recontest</th>\n",
       "      <th>MyNeta_education</th>\n",
       "      <th>TCPD_Prof_Main</th>\n",
       "      <th>TCPD_Prof_Main_Desc</th>\n",
       "      <th>TCPD_Prof_Second</th>\n",
       "      <th>TCPD_Prof_Second_Desc</th>\n",
       "      <th>Election_Type</th>\n",
       "    </tr>\n",
       "  </thead>\n",
       "  <tbody>\n",
       "    <tr>\n",
       "      <th>0</th>\n",
       "      <td>Andaman_&amp;_Nicobar_Islands</td>\n",
       "      <td>17</td>\n",
       "      <td>1</td>\n",
       "      <td>2019</td>\n",
       "      <td>4.0</td>\n",
       "      <td>0</td>\n",
       "      <td>4</td>\n",
       "      <td>1</td>\n",
       "      <td>M</td>\n",
       "      <td>INC</td>\n",
       "      <td>...</td>\n",
       "      <td>1.0</td>\n",
       "      <td>False</td>\n",
       "      <td>False</td>\n",
       "      <td>True</td>\n",
       "      <td>Graduate Professional</td>\n",
       "      <td>Business</td>\n",
       "      <td>NaN</td>\n",
       "      <td>Social Work</td>\n",
       "      <td>NaN</td>\n",
       "      <td>Lok Sabha Election (GE)</td>\n",
       "    </tr>\n",
       "    <tr>\n",
       "      <th>1</th>\n",
       "      <td>Andaman_&amp;_Nicobar_Islands</td>\n",
       "      <td>17</td>\n",
       "      <td>1</td>\n",
       "      <td>2019</td>\n",
       "      <td>4.0</td>\n",
       "      <td>0</td>\n",
       "      <td>4</td>\n",
       "      <td>2</td>\n",
       "      <td>M</td>\n",
       "      <td>BJP</td>\n",
       "      <td>...</td>\n",
       "      <td>0.0</td>\n",
       "      <td>False</td>\n",
       "      <td>False</td>\n",
       "      <td>False</td>\n",
       "      <td>Graduate Professional</td>\n",
       "      <td>Liberal Profession or Professional</td>\n",
       "      <td>Lawyer</td>\n",
       "      <td>NaN</td>\n",
       "      <td>NaN</td>\n",
       "      <td>Lok Sabha Election (GE)</td>\n",
       "    </tr>\n",
       "    <tr>\n",
       "      <th>2</th>\n",
       "      <td>Andaman_&amp;_Nicobar_Islands</td>\n",
       "      <td>17</td>\n",
       "      <td>1</td>\n",
       "      <td>2019</td>\n",
       "      <td>4.0</td>\n",
       "      <td>0</td>\n",
       "      <td>4</td>\n",
       "      <td>3</td>\n",
       "      <td>M</td>\n",
       "      <td>IND</td>\n",
       "      <td>...</td>\n",
       "      <td>0.0</td>\n",
       "      <td>False</td>\n",
       "      <td>False</td>\n",
       "      <td>False</td>\n",
       "      <td>Post Graduate</td>\n",
       "      <td>Agriculture</td>\n",
       "      <td>NaN</td>\n",
       "      <td>NaN</td>\n",
       "      <td>NaN</td>\n",
       "      <td>Lok Sabha Election (GE)</td>\n",
       "    </tr>\n",
       "    <tr>\n",
       "      <th>3</th>\n",
       "      <td>Andaman_&amp;_Nicobar_Islands</td>\n",
       "      <td>17</td>\n",
       "      <td>1</td>\n",
       "      <td>2019</td>\n",
       "      <td>4.0</td>\n",
       "      <td>0</td>\n",
       "      <td>4</td>\n",
       "      <td>4</td>\n",
       "      <td>M</td>\n",
       "      <td>AAAP</td>\n",
       "      <td>...</td>\n",
       "      <td>0.0</td>\n",
       "      <td>False</td>\n",
       "      <td>False</td>\n",
       "      <td>True</td>\n",
       "      <td>12th Pass</td>\n",
       "      <td>Business</td>\n",
       "      <td>NaN</td>\n",
       "      <td>Politics</td>\n",
       "      <td>Municipality Member</td>\n",
       "      <td>Lok Sabha Election (GE)</td>\n",
       "    </tr>\n",
       "    <tr>\n",
       "      <th>4</th>\n",
       "      <td>Andaman_&amp;_Nicobar_Islands</td>\n",
       "      <td>17</td>\n",
       "      <td>1</td>\n",
       "      <td>2019</td>\n",
       "      <td>4.0</td>\n",
       "      <td>0</td>\n",
       "      <td>4</td>\n",
       "      <td>5</td>\n",
       "      <td>M</td>\n",
       "      <td>BSP</td>\n",
       "      <td>...</td>\n",
       "      <td>0.0</td>\n",
       "      <td>False</td>\n",
       "      <td>False</td>\n",
       "      <td>False</td>\n",
       "      <td>Post Graduate</td>\n",
       "      <td>Social Work</td>\n",
       "      <td>NaN</td>\n",
       "      <td>NaN</td>\n",
       "      <td>NaN</td>\n",
       "      <td>Lok Sabha Election (GE)</td>\n",
       "    </tr>\n",
       "    <tr>\n",
       "      <th>...</th>\n",
       "      <td>...</td>\n",
       "      <td>...</td>\n",
       "      <td>...</td>\n",
       "      <td>...</td>\n",
       "      <td>...</td>\n",
       "      <td>...</td>\n",
       "      <td>...</td>\n",
       "      <td>...</td>\n",
       "      <td>...</td>\n",
       "      <td>...</td>\n",
       "      <td>...</td>\n",
       "      <td>...</td>\n",
       "      <td>...</td>\n",
       "      <td>...</td>\n",
       "      <td>...</td>\n",
       "      <td>...</td>\n",
       "      <td>...</td>\n",
       "      <td>...</td>\n",
       "      <td>...</td>\n",
       "      <td>...</td>\n",
       "      <td>...</td>\n",
       "    </tr>\n",
       "    <tr>\n",
       "      <th>91664</th>\n",
       "      <td>Mysore</td>\n",
       "      <td>3</td>\n",
       "      <td>23</td>\n",
       "      <td>1965</td>\n",
       "      <td>NaN</td>\n",
       "      <td>1</td>\n",
       "      <td>1</td>\n",
       "      <td>3</td>\n",
       "      <td>NaN</td>\n",
       "      <td>SWA</td>\n",
       "      <td>...</td>\n",
       "      <td>0.0</td>\n",
       "      <td>False</td>\n",
       "      <td>False</td>\n",
       "      <td>False</td>\n",
       "      <td>NaN</td>\n",
       "      <td>NaN</td>\n",
       "      <td>NaN</td>\n",
       "      <td>NaN</td>\n",
       "      <td>NaN</td>\n",
       "      <td>Lok Sabha Election (GE)</td>\n",
       "    </tr>\n",
       "    <tr>\n",
       "      <th>91665</th>\n",
       "      <td>Uttar_Pradesh</td>\n",
       "      <td>3</td>\n",
       "      <td>76</td>\n",
       "      <td>1965</td>\n",
       "      <td>NaN</td>\n",
       "      <td>1</td>\n",
       "      <td>1</td>\n",
       "      <td>1</td>\n",
       "      <td>M</td>\n",
       "      <td>INC</td>\n",
       "      <td>...</td>\n",
       "      <td>1.0</td>\n",
       "      <td>False</td>\n",
       "      <td>False</td>\n",
       "      <td>False</td>\n",
       "      <td>NaN</td>\n",
       "      <td>NaN</td>\n",
       "      <td>NaN</td>\n",
       "      <td>NaN</td>\n",
       "      <td>NaN</td>\n",
       "      <td>Lok Sabha Election (GE)</td>\n",
       "    </tr>\n",
       "    <tr>\n",
       "      <th>91666</th>\n",
       "      <td>Uttar_Pradesh</td>\n",
       "      <td>3</td>\n",
       "      <td>76</td>\n",
       "      <td>1965</td>\n",
       "      <td>NaN</td>\n",
       "      <td>1</td>\n",
       "      <td>1</td>\n",
       "      <td>2</td>\n",
       "      <td>NaN</td>\n",
       "      <td>IND</td>\n",
       "      <td>...</td>\n",
       "      <td>0.0</td>\n",
       "      <td>False</td>\n",
       "      <td>False</td>\n",
       "      <td>False</td>\n",
       "      <td>NaN</td>\n",
       "      <td>NaN</td>\n",
       "      <td>NaN</td>\n",
       "      <td>NaN</td>\n",
       "      <td>NaN</td>\n",
       "      <td>Lok Sabha Election (GE)</td>\n",
       "    </tr>\n",
       "    <tr>\n",
       "      <th>91667</th>\n",
       "      <td>Uttar_Pradesh</td>\n",
       "      <td>3</td>\n",
       "      <td>76</td>\n",
       "      <td>1965</td>\n",
       "      <td>NaN</td>\n",
       "      <td>1</td>\n",
       "      <td>1</td>\n",
       "      <td>3</td>\n",
       "      <td>NaN</td>\n",
       "      <td>IND</td>\n",
       "      <td>...</td>\n",
       "      <td>0.0</td>\n",
       "      <td>False</td>\n",
       "      <td>False</td>\n",
       "      <td>False</td>\n",
       "      <td>NaN</td>\n",
       "      <td>NaN</td>\n",
       "      <td>NaN</td>\n",
       "      <td>NaN</td>\n",
       "      <td>NaN</td>\n",
       "      <td>Lok Sabha Election (GE)</td>\n",
       "    </tr>\n",
       "    <tr>\n",
       "      <th>91668</th>\n",
       "      <td>Uttar_Pradesh</td>\n",
       "      <td>3</td>\n",
       "      <td>76</td>\n",
       "      <td>1965</td>\n",
       "      <td>NaN</td>\n",
       "      <td>1</td>\n",
       "      <td>1</td>\n",
       "      <td>4</td>\n",
       "      <td>NaN</td>\n",
       "      <td>IND</td>\n",
       "      <td>...</td>\n",
       "      <td>0.0</td>\n",
       "      <td>False</td>\n",
       "      <td>False</td>\n",
       "      <td>False</td>\n",
       "      <td>NaN</td>\n",
       "      <td>NaN</td>\n",
       "      <td>NaN</td>\n",
       "      <td>NaN</td>\n",
       "      <td>NaN</td>\n",
       "      <td>Lok Sabha Election (GE)</td>\n",
       "    </tr>\n",
       "  </tbody>\n",
       "</table>\n",
       "<p>91669 rows × 44 columns</p>\n",
       "</div>"
      ],
      "text/plain": [
       "                      State_Name  Assembly_No  Constituency_No  Year  month  \\\n",
       "0      Andaman_&_Nicobar_Islands           17                1  2019    4.0   \n",
       "1      Andaman_&_Nicobar_Islands           17                1  2019    4.0   \n",
       "2      Andaman_&_Nicobar_Islands           17                1  2019    4.0   \n",
       "3      Andaman_&_Nicobar_Islands           17                1  2019    4.0   \n",
       "4      Andaman_&_Nicobar_Islands           17                1  2019    4.0   \n",
       "...                          ...          ...              ...   ...    ...   \n",
       "91664                     Mysore            3               23  1965    NaN   \n",
       "91665              Uttar_Pradesh            3               76  1965    NaN   \n",
       "91666              Uttar_Pradesh            3               76  1965    NaN   \n",
       "91667              Uttar_Pradesh            3               76  1965    NaN   \n",
       "91668              Uttar_Pradesh            3               76  1965    NaN   \n",
       "\n",
       "       Poll_No  DelimID  Position  Sex Party  ...  No_Terms Turncoat  \\\n",
       "0            0        4         1    M   INC  ...       1.0    False   \n",
       "1            0        4         2    M   BJP  ...       0.0    False   \n",
       "2            0        4         3    M   IND  ...       0.0    False   \n",
       "3            0        4         4    M  AAAP  ...       0.0    False   \n",
       "4            0        4         5    M   BSP  ...       0.0    False   \n",
       "...        ...      ...       ...  ...   ...  ...       ...      ...   \n",
       "91664        1        1         3  NaN   SWA  ...       0.0    False   \n",
       "91665        1        1         1    M   INC  ...       1.0    False   \n",
       "91666        1        1         2  NaN   IND  ...       0.0    False   \n",
       "91667        1        1         3  NaN   IND  ...       0.0    False   \n",
       "91668        1        1         4  NaN   IND  ...       0.0    False   \n",
       "\n",
       "       Incumbent  Recontest       MyNeta_education  \\\n",
       "0          False       True  Graduate Professional   \n",
       "1          False      False  Graduate Professional   \n",
       "2          False      False          Post Graduate   \n",
       "3          False       True              12th Pass   \n",
       "4          False      False          Post Graduate   \n",
       "...          ...        ...                    ...   \n",
       "91664      False      False                    NaN   \n",
       "91665      False      False                    NaN   \n",
       "91666      False      False                    NaN   \n",
       "91667      False      False                    NaN   \n",
       "91668      False      False                    NaN   \n",
       "\n",
       "                           TCPD_Prof_Main TCPD_Prof_Main_Desc  \\\n",
       "0                                Business                 NaN   \n",
       "1      Liberal Profession or Professional              Lawyer   \n",
       "2                             Agriculture                 NaN   \n",
       "3                                Business                 NaN   \n",
       "4                             Social Work                 NaN   \n",
       "...                                   ...                 ...   \n",
       "91664                                 NaN                 NaN   \n",
       "91665                                 NaN                 NaN   \n",
       "91666                                 NaN                 NaN   \n",
       "91667                                 NaN                 NaN   \n",
       "91668                                 NaN                 NaN   \n",
       "\n",
       "       TCPD_Prof_Second  TCPD_Prof_Second_Desc            Election_Type  \n",
       "0           Social Work                    NaN  Lok Sabha Election (GE)  \n",
       "1                   NaN                    NaN  Lok Sabha Election (GE)  \n",
       "2                   NaN                    NaN  Lok Sabha Election (GE)  \n",
       "3              Politics    Municipality Member  Lok Sabha Election (GE)  \n",
       "4                   NaN                    NaN  Lok Sabha Election (GE)  \n",
       "...                 ...                    ...                      ...  \n",
       "91664               NaN                    NaN  Lok Sabha Election (GE)  \n",
       "91665               NaN                    NaN  Lok Sabha Election (GE)  \n",
       "91666               NaN                    NaN  Lok Sabha Election (GE)  \n",
       "91667               NaN                    NaN  Lok Sabha Election (GE)  \n",
       "91668               NaN                    NaN  Lok Sabha Election (GE)  \n",
       "\n",
       "[91669 rows x 44 columns]"
      ]
     },
     "execution_count": 35,
     "metadata": {},
     "output_type": "execute_result"
    }
   ],
   "source": [
    "#preprocessing\n",
    "df.drop(['Sub_Region'],axis=1)#dropping sub_region column because it is empty\n",
    "df.drop(['Candidate'],axis=1)#dropping candidate column because it is empty\n"
   ]
  },
  {
   "cell_type": "code",
   "execution_count": 36,
   "id": "d6948d13",
   "metadata": {},
   "outputs": [
    {
     "name": "stdout",
     "output_type": "stream",
     "text": [
      "0        GEN\n",
      "1        NaN\n",
      "2        NaN\n",
      "3        GEN\n",
      "4        NaN\n",
      "        ... \n",
      "91664    NaN\n",
      "91665    NaN\n",
      "91666    NaN\n",
      "91667    NaN\n",
      "91668    NaN\n",
      "Name: Candidate_Type, Length: 91669, dtype: object\n"
     ]
    }
   ],
   "source": [
    "\n",
    "print(df['Candidate_Type'])"
   ]
  },
  {
   "cell_type": "code",
   "execution_count": 37,
   "id": "fd0ddfe6",
   "metadata": {},
   "outputs": [
    {
     "data": {
      "text/plain": [
       "array([2019, 2020, 2021, 2014, 2015, 2016, 2017, 2018, 2009, 2011, 2012,\n",
       "       2013, 2004, 2005, 2006, 2007, 2008, 1999, 2000, 2001, 2002, 2003,\n",
       "       1998, 1996, 1997, 1991, 1992, 1993, 1994, 1995, 1989, 1984, 1985,\n",
       "       1986, 1987, 1988, 1980, 1981, 1982, 1977, 1978, 1979, 1971, 1972,\n",
       "       1967, 1968, 1969, 1970, 1962, 1963, 1964, 1965])"
      ]
     },
     "execution_count": 37,
     "metadata": {},
     "output_type": "execute_result"
    }
   ],
   "source": [
    "df['Candidate_Type'].unique()\n",
    "df['Party'].unique()\n",
    "df['Year'].unique()"
   ]
  },
  {
   "cell_type": "code",
   "execution_count": 38,
   "id": "77c02eff",
   "metadata": {},
   "outputs": [],
   "source": [
    "#filtering data only for 2004 to 2\n",
    "years_to_remove=[1999,1998, 1996, 1997, 1991, 1992, 1993, 1994, 1995, 1989, 1984, 1985,\n",
    "       1986, 1987, 1988, 1980, 1981, 1982, 1977, 1978, 1979, 1971, 1972,\n",
    "           1967, 1968, 1969, 1970, 1962, 1963, 1964, 1965,2020, 2021, 2014, 2015, 2016, 2017, 2018, 2011, 2012,\n",
    "       2013, 2005, 2006, 2007, 2008, 1999, 2000, 2001, 2002, 2003]\n",
    "df1=df[~df['Year'].isin(years_to_remove)]\n"
   ]
  },
  {
   "cell_type": "code",
   "execution_count": 39,
   "id": "b258f84b",
   "metadata": {},
   "outputs": [
    {
     "data": {
      "text/plain": [
       "array([2019, 2009, 2004])"
      ]
     },
     "execution_count": 39,
     "metadata": {},
     "output_type": "execute_result"
    }
   ],
   "source": [
    "df1['Year'].unique()"
   ]
  },
  {
   "cell_type": "code",
   "execution_count": null,
   "id": "86cef690",
   "metadata": {},
   "outputs": [],
   "source": []
  },
  {
   "cell_type": "code",
   "execution_count": 40,
   "id": "7bf2914d",
   "metadata": {},
   "outputs": [],
   "source": [
    "# insight1 no. of female and male candidates for years \n",
    "gender_insight = df1.groupby(['Year', 'Sex']).size().reset_index(name='count')"
   ]
  },
  {
   "cell_type": "code",
   "execution_count": 41,
   "id": "89f15517",
   "metadata": {},
   "outputs": [],
   "source": [
    "pivot_data = gender_insight.pivot(index='Year', columns='Sex', values='count')"
   ]
  },
  {
   "cell_type": "code",
   "execution_count": 42,
   "id": "6cdb185a",
   "metadata": {},
   "outputs": [
    {
     "data": {
      "image/png": "[encoded data removed]",
      "text/plain": [
       "<Figure size 1440x720 with 1 Axes>"
      ]
     },
     "metadata": {
      "needs_background": "light"
     },
     "output_type": "display_data"
    }
   ],
   "source": [
    "\n",
    "pivot_data.plot(kind='bar', stacked=True, figsize=(20,10), grid=False)\n",
    "\n",
    "# Add labels and title\n",
    "\n",
    "plt.xlabel('Year')\n",
    "plt.ylabel('Number of Candidates')\n",
    "plt.title('Male and Female Candidates for Each Year')\n",
    "\n",
    "\n",
    "# Show the plot\n",
    "plt.show()"
   ]
  },
  {
   "cell_type": "code",
   "execution_count": 43,
   "id": "9df155a1",
   "metadata": {},
   "outputs": [
    {
     "name": "stdout",
     "output_type": "stream",
     "text": [
      "0.11309796629038994\n"
     ]
    }
   ],
   "source": [
    "correlation=df['Position'].corr(df['Party_ID'])\n",
    "print(correlation)"
   ]
  },
  {
   "cell_type": "code",
   "execution_count": 44,
   "id": "bba11ac5",
   "metadata": {},
   "outputs": [
    {
     "data": {
      "text/plain": [
       "<AxesSubplot:xlabel='Party'>"
      ]
     },
     "execution_count": 44,
     "metadata": {},
     "output_type": "execute_result"
    },
    {
     "data": {
      "image/png": "[encoded data removed]",
      "text/plain": [
       "<Figure size 1440x720 with 1 Axes>"
      ]
     },
     "metadata": {
      "needs_background": "light"
     },
     "output_type": "display_data"
    }
   ],
   "source": [
    "first_position=df.loc[(df['Position']==1)]\n",
    "first_position_party=first_position.groupby(['Party'])['Party'].count().sort_values(ascending=False)\n",
    "first_position_party=first_position_party.to_frame()\n",
    "#print only top 20 parties\n",
    "x=first_position_party.head(20)\n",
    "x.plot(kind='bar',figsize=(20,10))\n"
   ]
  },
  {
   "cell_type": "code",
   "execution_count": 45,
   "id": "7646e347",
   "metadata": {},
   "outputs": [
    {
     "data": {
      "text/plain": [
       "<AxesSubplot:xlabel='Party'>"
      ]
     },
     "execution_count": 45,
     "metadata": {},
     "output_type": "execute_result"
    },
    {
     "data": {
      "image/png": "[encoded data removed]",
      "text/plain": [
       "<Figure size 1440x720 with 1 Axes>"
      ]
     },
     "metadata": {
      "needs_background": "light"
     },
     "output_type": "display_data"
    }
   ],
   "source": [
    "first_position1=df1.loc[(df1['Position']==1)]\n",
    "first_position_party1=first_position.groupby(['Party'])['Party'].count().sort_values(ascending=False)\n",
    "#print only top 20 parties\n",
    "x1=first_position_party1.head(20)\n",
    "x1.plot(kind='bar',figsize=(20,10))"
   ]
  },
  {
   "cell_type": "code",
   "execution_count": 55,
   "id": "24ec956e",
   "metadata": {},
   "outputs": [
    {
     "data": {
      "text/plain": [
       "Index(['State_Name', 'Assembly_No', 'Constituency_No', 'Year', 'month',\n",
       "       'Poll_No', 'DelimID', 'Position', 'Candidate', 'Sex', 'Party', 'Votes',\n",
       "       'Candidate_Type', 'Valid_Votes', 'Electors', 'Constituency_Name',\n",
       "       'Constituency_Type', 'Sub_Region', 'N_Cand', 'Turnout_Percentage',\n",
       "       'Vote_Share_Percentage', 'Deposit_Lost', 'Margin', 'Margin_Percentage',\n",
       "       'ENOP', 'pid', 'Party_Type_TCPD', 'Party_ID', 'last_poll', 'Contested',\n",
       "       'Last_Party', 'Last_Party_ID', 'Last_Constituency_Name',\n",
       "       'Same_Constituency', 'Same_Party', 'No_Terms', 'Turncoat', 'Incumbent',\n",
       "       'Recontest', 'MyNeta_education', 'TCPD_Prof_Main',\n",
       "       'TCPD_Prof_Main_Desc', 'TCPD_Prof_Second', 'TCPD_Prof_Second_Desc',\n",
       "       'Election_Type'],\n",
       "      dtype='object')"
      ]
     },
     "execution_count": 55,
     "metadata": {},
     "output_type": "execute_result"
    }
   ],
   "source": [
    "df.columns"
   ]
  },
  {
   "cell_type": "code",
   "execution_count": 80,
   "id": "a79666fe",
   "metadata": {},
   "outputs": [],
   "source": [
    "df3=df.drop(columns=['Assembly_No','DelimID','Candidate','Sub_Region','Last_Party','Last_Party_ID', 'Last_Constituency_Name',\n",
    "       'Same_Constituency', 'Same_Party', 'No_Terms', 'Turncoat', 'Incumbent', 'Election_Type','State_Name','Sex','Candidate_Type','Constituency_Name','Constituency_Type'])"
   ]
  },
  {
   "cell_type": "code",
   "execution_count": 81,
   "id": "ac2f93d4",
   "metadata": {},
   "outputs": [
    {
     "name": "stdout",
     "output_type": "stream",
     "text": [
      "<class 'pandas.core.frame.DataFrame'>\n",
      "RangeIndex: 91669 entries, 0 to 91668\n",
      "Data columns (total 27 columns):\n",
      " #   Column                 Non-Null Count  Dtype  \n",
      "---  ------                 --------------  -----  \n",
      " 0   Constituency_No        91669 non-null  int64  \n",
      " 1   Year                   91669 non-null  int64  \n",
      " 2   month                  88590 non-null  float64\n",
      " 3   Poll_No                91669 non-null  int64  \n",
      " 4   Position               91669 non-null  int64  \n",
      " 5   Party                  91669 non-null  int64  \n",
      " 6   Votes                  91665 non-null  float64\n",
      " 7   Valid_Votes            91669 non-null  int64  \n",
      " 8   Electors               91649 non-null  float64\n",
      " 9   N_Cand                 91669 non-null  int64  \n",
      " 10  Turnout_Percentage     91649 non-null  float64\n",
      " 11  Vote_Share_Percentage  91649 non-null  float64\n",
      " 12  Deposit_Lost           90562 non-null  object \n",
      " 13  Margin                 91668 non-null  float64\n",
      " 14  Margin_Percentage      91649 non-null  float64\n",
      " 15  ENOP                   91649 non-null  float64\n",
      " 16  pid                    90562 non-null  object \n",
      " 17  Party_Type_TCPD        91394 non-null  object \n",
      " 18  Party_ID               91435 non-null  float64\n",
      " 19  last_poll              91669 non-null  bool   \n",
      " 20  Contested              90562 non-null  float64\n",
      " 21  Recontest              90562 non-null  object \n",
      " 22  MyNeta_education       25122 non-null  object \n",
      " 23  TCPD_Prof_Main         26254 non-null  object \n",
      " 24  TCPD_Prof_Main_Desc    5983 non-null   object \n",
      " 25  TCPD_Prof_Second       2553 non-null   object \n",
      " 26  TCPD_Prof_Second_Desc  681 non-null    object \n",
      "dtypes: bool(1), float64(10), int64(7), object(9)\n",
      "memory usage: 18.3+ MB\n"
     ]
    }
   ],
   "source": [
    "df3.info()"
   ]
  },
  {
   "cell_type": "code",
   "execution_count": 82,
   "id": "7cfb9ef5",
   "metadata": {},
   "outputs": [
    {
     "data": {
      "text/html": [
       "<div>\n",
       "<style scoped>\n",
       "    .dataframe tbody tr th:only-of-type {\n",
       "        vertical-align: middle;\n",
       "    }\n",
       "\n",
       "    .dataframe tbody tr th {\n",
       "        vertical-align: top;\n",
       "    }\n",
       "\n",
       "    .dataframe thead th {\n",
       "        text-align: right;\n",
       "    }\n",
       "</style>\n",
       "<table border=\"1\" class=\"dataframe\">\n",
       "  <thead>\n",
       "    <tr style=\"text-align: right;\">\n",
       "      <th></th>\n",
       "      <th>Constituency_No</th>\n",
       "      <th>Year</th>\n",
       "      <th>month</th>\n",
       "      <th>Poll_No</th>\n",
       "      <th>Position</th>\n",
       "      <th>Party</th>\n",
       "      <th>Votes</th>\n",
       "      <th>Valid_Votes</th>\n",
       "      <th>Electors</th>\n",
       "      <th>N_Cand</th>\n",
       "      <th>...</th>\n",
       "      <th>Party_Type_TCPD</th>\n",
       "      <th>Party_ID</th>\n",
       "      <th>last_poll</th>\n",
       "      <th>Contested</th>\n",
       "      <th>Recontest</th>\n",
       "      <th>MyNeta_education</th>\n",
       "      <th>TCPD_Prof_Main</th>\n",
       "      <th>TCPD_Prof_Main_Desc</th>\n",
       "      <th>TCPD_Prof_Second</th>\n",
       "      <th>TCPD_Prof_Second_Desc</th>\n",
       "    </tr>\n",
       "  </thead>\n",
       "  <tbody>\n",
       "    <tr>\n",
       "      <th>0</th>\n",
       "      <td>1</td>\n",
       "      <td>2019</td>\n",
       "      <td>4.0</td>\n",
       "      <td>0</td>\n",
       "      <td>1</td>\n",
       "      <td>612</td>\n",
       "      <td>95308.0</td>\n",
       "      <td>207296</td>\n",
       "      <td>318471.0</td>\n",
       "      <td>15</td>\n",
       "      <td>...</td>\n",
       "      <td>National Party</td>\n",
       "      <td>3482.0</td>\n",
       "      <td>True</td>\n",
       "      <td>4.0</td>\n",
       "      <td>True</td>\n",
       "      <td>Graduate Professional</td>\n",
       "      <td>Business</td>\n",
       "      <td>NaN</td>\n",
       "      <td>Social Work</td>\n",
       "      <td>NaN</td>\n",
       "    </tr>\n",
       "    <tr>\n",
       "      <th>1</th>\n",
       "      <td>1</td>\n",
       "      <td>2019</td>\n",
       "      <td>4.0</td>\n",
       "      <td>0</td>\n",
       "      <td>2</td>\n",
       "      <td>282</td>\n",
       "      <td>93901.0</td>\n",
       "      <td>207296</td>\n",
       "      <td>318471.0</td>\n",
       "      <td>15</td>\n",
       "      <td>...</td>\n",
       "      <td>National Party</td>\n",
       "      <td>1605.0</td>\n",
       "      <td>True</td>\n",
       "      <td>1.0</td>\n",
       "      <td>False</td>\n",
       "      <td>Graduate Professional</td>\n",
       "      <td>Liberal Profession or Professional</td>\n",
       "      <td>Lawyer</td>\n",
       "      <td>NaN</td>\n",
       "      <td>NaN</td>\n",
       "    </tr>\n",
       "    <tr>\n",
       "      <th>2</th>\n",
       "      <td>1</td>\n",
       "      <td>2019</td>\n",
       "      <td>4.0</td>\n",
       "      <td>0</td>\n",
       "      <td>3</td>\n",
       "      <td>617</td>\n",
       "      <td>5341.0</td>\n",
       "      <td>207296</td>\n",
       "      <td>318471.0</td>\n",
       "      <td>15</td>\n",
       "      <td>...</td>\n",
       "      <td>Independents</td>\n",
       "      <td>10809.0</td>\n",
       "      <td>True</td>\n",
       "      <td>1.0</td>\n",
       "      <td>False</td>\n",
       "      <td>Post Graduate</td>\n",
       "      <td>Agriculture</td>\n",
       "      <td>NaN</td>\n",
       "      <td>NaN</td>\n",
       "      <td>NaN</td>\n",
       "    </tr>\n",
       "    <tr>\n",
       "      <th>3</th>\n",
       "      <td>1</td>\n",
       "      <td>2019</td>\n",
       "      <td>4.0</td>\n",
       "      <td>0</td>\n",
       "      <td>4</td>\n",
       "      <td>2</td>\n",
       "      <td>2839.0</td>\n",
       "      <td>207296</td>\n",
       "      <td>318471.0</td>\n",
       "      <td>15</td>\n",
       "      <td>...</td>\n",
       "      <td>State-based Party (Other State)</td>\n",
       "      <td>13.0</td>\n",
       "      <td>True</td>\n",
       "      <td>2.0</td>\n",
       "      <td>True</td>\n",
       "      <td>12th Pass</td>\n",
       "      <td>Business</td>\n",
       "      <td>NaN</td>\n",
       "      <td>Politics</td>\n",
       "      <td>Municipality Member</td>\n",
       "    </tr>\n",
       "    <tr>\n",
       "      <th>4</th>\n",
       "      <td>1</td>\n",
       "      <td>2019</td>\n",
       "      <td>4.0</td>\n",
       "      <td>0</td>\n",
       "      <td>5</td>\n",
       "      <td>392</td>\n",
       "      <td>2486.0</td>\n",
       "      <td>207296</td>\n",
       "      <td>318471.0</td>\n",
       "      <td>15</td>\n",
       "      <td>...</td>\n",
       "      <td>State-based Party (Other State)</td>\n",
       "      <td>16651.0</td>\n",
       "      <td>True</td>\n",
       "      <td>1.0</td>\n",
       "      <td>False</td>\n",
       "      <td>Post Graduate</td>\n",
       "      <td>Social Work</td>\n",
       "      <td>NaN</td>\n",
       "      <td>NaN</td>\n",
       "      <td>NaN</td>\n",
       "    </tr>\n",
       "  </tbody>\n",
       "</table>\n",
       "<p>5 rows × 27 columns</p>\n",
       "</div>"
      ],
      "text/plain": [
       "   Constituency_No  Year  month  Poll_No  Position  Party    Votes  \\\n",
       "0                1  2019    4.0        0         1    612  95308.0   \n",
       "1                1  2019    4.0        0         2    282  93901.0   \n",
       "2                1  2019    4.0        0         3    617   5341.0   \n",
       "3                1  2019    4.0        0         4      2   2839.0   \n",
       "4                1  2019    4.0        0         5    392   2486.0   \n",
       "\n",
       "   Valid_Votes  Electors  N_Cand  ...                  Party_Type_TCPD  \\\n",
       "0       207296  318471.0      15  ...                   National Party   \n",
       "1       207296  318471.0      15  ...                   National Party   \n",
       "2       207296  318471.0      15  ...                     Independents   \n",
       "3       207296  318471.0      15  ...  State-based Party (Other State)   \n",
       "4       207296  318471.0      15  ...  State-based Party (Other State)   \n",
       "\n",
       "   Party_ID last_poll  Contested  Recontest       MyNeta_education  \\\n",
       "0    3482.0      True        4.0       True  Graduate Professional   \n",
       "1    1605.0      True        1.0      False  Graduate Professional   \n",
       "2   10809.0      True        1.0      False          Post Graduate   \n",
       "3      13.0      True        2.0       True              12th Pass   \n",
       "4   16651.0      True        1.0      False          Post Graduate   \n",
       "\n",
       "                       TCPD_Prof_Main TCPD_Prof_Main_Desc  TCPD_Prof_Second  \\\n",
       "0                            Business                 NaN       Social Work   \n",
       "1  Liberal Profession or Professional              Lawyer               NaN   \n",
       "2                         Agriculture                 NaN               NaN   \n",
       "3                            Business                 NaN          Politics   \n",
       "4                         Social Work                 NaN               NaN   \n",
       "\n",
       "   TCPD_Prof_Second_Desc  \n",
       "0                    NaN  \n",
       "1                    NaN  \n",
       "2                    NaN  \n",
       "3    Municipality Member  \n",
       "4                    NaN  \n",
       "\n",
       "[5 rows x 27 columns]"
      ]
     },
     "execution_count": 82,
     "metadata": {},
     "output_type": "execute_result"
    }
   ],
   "source": [
    "df3.head()"
   ]
  },
  {
   "cell_type": "code",
   "execution_count": 83,
   "id": "93a31eb2",
   "metadata": {},
   "outputs": [
    {
     "ename": "ValueError",
     "evalue": "could not convert string to float: 'no'",
     "output_type": "error",
     "traceback": [
      "\u001b[0;31m---------------------------------------------------------------------------\u001b[0m",
      "\u001b[0;31mValueError\u001b[0m                                Traceback (most recent call last)",
      "\u001b[1;32m/home/yugdedhia/Precog---Elections-2024-Recruitment-Task/Elections/preprocessing.ipynb Cell 20\u001b[0m in \u001b[0;36m<cell line: 4>\u001b[0;34m()\u001b[0m\n\u001b[1;32m      <a href='vscode-notebook-cell:/home/yugdedhia/Precog---Elections-2024-Recruitment-Task/Elections/preprocessing.ipynb#X34sZmlsZQ%3D%3D?line=1'>2</a>\u001b[0m \u001b[39m# Using the standard scaler method to standardize all of the features by converting them into values between -3 and +3.\u001b[39;00m\n\u001b[1;32m      <a href='vscode-notebook-cell:/home/yugdedhia/Precog---Elections-2024-Recruitment-Task/Elections/preprocessing.ipynb#X34sZmlsZQ%3D%3D?line=2'>3</a>\u001b[0m \u001b[39mfrom\u001b[39;00m \u001b[39msklearn\u001b[39;00m\u001b[39m.\u001b[39;00m\u001b[39mpreprocessing\u001b[39;00m \u001b[39mimport\u001b[39;00m StandardScaler\n\u001b[0;32m----> <a href='vscode-notebook-cell:/home/yugdedhia/Precog---Elections-2024-Recruitment-Task/Elections/preprocessing.ipynb#X34sZmlsZQ%3D%3D?line=3'>4</a>\u001b[0m X \u001b[39m=\u001b[39m StandardScaler()\u001b[39m.\u001b[39;49mfit_transform(X)\n",
      "File \u001b[0;32m~/.local/lib/python3.10/site-packages/sklearn/utils/_set_output.py:142\u001b[0m, in \u001b[0;36m_wrap_method_output.<locals>.wrapped\u001b[0;34m(self, X, *args, **kwargs)\u001b[0m\n\u001b[1;32m    140\u001b[0m \u001b[39m@wraps\u001b[39m(f)\n\u001b[1;32m    141\u001b[0m \u001b[39mdef\u001b[39;00m \u001b[39mwrapped\u001b[39m(\u001b[39mself\u001b[39m, X, \u001b[39m*\u001b[39margs, \u001b[39m*\u001b[39m\u001b[39m*\u001b[39mkwargs):\n\u001b[0;32m--> 142\u001b[0m     data_to_wrap \u001b[39m=\u001b[39m f(\u001b[39mself\u001b[39;49m, X, \u001b[39m*\u001b[39;49margs, \u001b[39m*\u001b[39;49m\u001b[39m*\u001b[39;49mkwargs)\n\u001b[1;32m    143\u001b[0m     \u001b[39mif\u001b[39;00m \u001b[39misinstance\u001b[39m(data_to_wrap, \u001b[39mtuple\u001b[39m):\n\u001b[1;32m    144\u001b[0m         \u001b[39m# only wrap the first output for cross decomposition\u001b[39;00m\n\u001b[1;32m    145\u001b[0m         \u001b[39mreturn\u001b[39;00m (\n\u001b[1;32m    146\u001b[0m             _wrap_data_with_container(method, data_to_wrap[\u001b[39m0\u001b[39m], X, \u001b[39mself\u001b[39m),\n\u001b[1;32m    147\u001b[0m             \u001b[39m*\u001b[39mdata_to_wrap[\u001b[39m1\u001b[39m:],\n\u001b[1;32m    148\u001b[0m         )\n",
      "File \u001b[0;32m~/.local/lib/python3.10/site-packages/sklearn/utils/_set_output.py:142\u001b[0m, in \u001b[0;36m_wrap_method_output.<locals>.wrapped\u001b[0;34m(self, X, *args, **kwargs)\u001b[0m\n\u001b[1;32m    140\u001b[0m \u001b[39m@wraps\u001b[39m(f)\n\u001b[1;32m    141\u001b[0m \u001b[39mdef\u001b[39;00m \u001b[39mwrapped\u001b[39m(\u001b[39mself\u001b[39m, X, \u001b[39m*\u001b[39margs, \u001b[39m*\u001b[39m\u001b[39m*\u001b[39mkwargs):\n\u001b[0;32m--> 142\u001b[0m     data_to_wrap \u001b[39m=\u001b[39m f(\u001b[39mself\u001b[39;49m, X, \u001b[39m*\u001b[39;49margs, \u001b[39m*\u001b[39;49m\u001b[39m*\u001b[39;49mkwargs)\n\u001b[1;32m    143\u001b[0m     \u001b[39mif\u001b[39;00m \u001b[39misinstance\u001b[39m(data_to_wrap, \u001b[39mtuple\u001b[39m):\n\u001b[1;32m    144\u001b[0m         \u001b[39m# only wrap the first output for cross decomposition\u001b[39;00m\n\u001b[1;32m    145\u001b[0m         \u001b[39mreturn\u001b[39;00m (\n\u001b[1;32m    146\u001b[0m             _wrap_data_with_container(method, data_to_wrap[\u001b[39m0\u001b[39m], X, \u001b[39mself\u001b[39m),\n\u001b[1;32m    147\u001b[0m             \u001b[39m*\u001b[39mdata_to_wrap[\u001b[39m1\u001b[39m:],\n\u001b[1;32m    148\u001b[0m         )\n",
      "File \u001b[0;32m~/.local/lib/python3.10/site-packages/sklearn/base.py:848\u001b[0m, in \u001b[0;36mTransformerMixin.fit_transform\u001b[0;34m(self, X, y, **fit_params)\u001b[0m\n\u001b[1;32m    844\u001b[0m \u001b[39m# non-optimized default implementation; override when a better\u001b[39;00m\n\u001b[1;32m    845\u001b[0m \u001b[39m# method is possible for a given clustering algorithm\u001b[39;00m\n\u001b[1;32m    846\u001b[0m \u001b[39mif\u001b[39;00m y \u001b[39mis\u001b[39;00m \u001b[39mNone\u001b[39;00m:\n\u001b[1;32m    847\u001b[0m     \u001b[39m# fit method of arity 1 (unsupervised transformation)\u001b[39;00m\n\u001b[0;32m--> 848\u001b[0m     \u001b[39mreturn\u001b[39;00m \u001b[39mself\u001b[39;49m\u001b[39m.\u001b[39;49mfit(X, \u001b[39m*\u001b[39;49m\u001b[39m*\u001b[39;49mfit_params)\u001b[39m.\u001b[39mtransform(X)\n\u001b[1;32m    849\u001b[0m \u001b[39melse\u001b[39;00m:\n\u001b[1;32m    850\u001b[0m     \u001b[39m# fit method of arity 2 (supervised transformation)\u001b[39;00m\n\u001b[1;32m    851\u001b[0m     \u001b[39mreturn\u001b[39;00m \u001b[39mself\u001b[39m\u001b[39m.\u001b[39mfit(X, y, \u001b[39m*\u001b[39m\u001b[39m*\u001b[39mfit_params)\u001b[39m.\u001b[39mtransform(X)\n",
      "File \u001b[0;32m~/.local/lib/python3.10/site-packages/sklearn/preprocessing/_data.py:824\u001b[0m, in \u001b[0;36mStandardScaler.fit\u001b[0;34m(self, X, y, sample_weight)\u001b[0m\n\u001b[1;32m    822\u001b[0m \u001b[39m# Reset internal state before fitting\u001b[39;00m\n\u001b[1;32m    823\u001b[0m \u001b[39mself\u001b[39m\u001b[39m.\u001b[39m_reset()\n\u001b[0;32m--> 824\u001b[0m \u001b[39mreturn\u001b[39;00m \u001b[39mself\u001b[39;49m\u001b[39m.\u001b[39;49mpartial_fit(X, y, sample_weight)\n",
      "File \u001b[0;32m~/.local/lib/python3.10/site-packages/sklearn/preprocessing/_data.py:861\u001b[0m, in \u001b[0;36mStandardScaler.partial_fit\u001b[0;34m(self, X, y, sample_weight)\u001b[0m\n\u001b[1;32m    858\u001b[0m \u001b[39mself\u001b[39m\u001b[39m.\u001b[39m_validate_params()\n\u001b[1;32m    860\u001b[0m first_call \u001b[39m=\u001b[39m \u001b[39mnot\u001b[39;00m \u001b[39mhasattr\u001b[39m(\u001b[39mself\u001b[39m, \u001b[39m\"\u001b[39m\u001b[39mn_samples_seen_\u001b[39m\u001b[39m\"\u001b[39m)\n\u001b[0;32m--> 861\u001b[0m X \u001b[39m=\u001b[39m \u001b[39mself\u001b[39;49m\u001b[39m.\u001b[39;49m_validate_data(\n\u001b[1;32m    862\u001b[0m     X,\n\u001b[1;32m    863\u001b[0m     accept_sparse\u001b[39m=\u001b[39;49m(\u001b[39m\"\u001b[39;49m\u001b[39mcsr\u001b[39;49m\u001b[39m\"\u001b[39;49m, \u001b[39m\"\u001b[39;49m\u001b[39mcsc\u001b[39;49m\u001b[39m\"\u001b[39;49m),\n\u001b[1;32m    864\u001b[0m     dtype\u001b[39m=\u001b[39;49mFLOAT_DTYPES,\n\u001b[1;32m    865\u001b[0m     force_all_finite\u001b[39m=\u001b[39;49m\u001b[39m\"\u001b[39;49m\u001b[39mallow-nan\u001b[39;49m\u001b[39m\"\u001b[39;49m,\n\u001b[1;32m    866\u001b[0m     reset\u001b[39m=\u001b[39;49mfirst_call,\n\u001b[1;32m    867\u001b[0m )\n\u001b[1;32m    868\u001b[0m n_features \u001b[39m=\u001b[39m X\u001b[39m.\u001b[39mshape[\u001b[39m1\u001b[39m]\n\u001b[1;32m    870\u001b[0m \u001b[39mif\u001b[39;00m sample_weight \u001b[39mis\u001b[39;00m \u001b[39mnot\u001b[39;00m \u001b[39mNone\u001b[39;00m:\n",
      "File \u001b[0;32m~/.local/lib/python3.10/site-packages/sklearn/base.py:535\u001b[0m, in \u001b[0;36mBaseEstimator._validate_data\u001b[0;34m(self, X, y, reset, validate_separately, **check_params)\u001b[0m\n\u001b[1;32m    533\u001b[0m     \u001b[39mraise\u001b[39;00m \u001b[39mValueError\u001b[39;00m(\u001b[39m\"\u001b[39m\u001b[39mValidation should be done on X, y or both.\u001b[39m\u001b[39m\"\u001b[39m)\n\u001b[1;32m    534\u001b[0m \u001b[39melif\u001b[39;00m \u001b[39mnot\u001b[39;00m no_val_X \u001b[39mand\u001b[39;00m no_val_y:\n\u001b[0;32m--> 535\u001b[0m     X \u001b[39m=\u001b[39m check_array(X, input_name\u001b[39m=\u001b[39;49m\u001b[39m\"\u001b[39;49m\u001b[39mX\u001b[39;49m\u001b[39m\"\u001b[39;49m, \u001b[39m*\u001b[39;49m\u001b[39m*\u001b[39;49mcheck_params)\n\u001b[1;32m    536\u001b[0m     out \u001b[39m=\u001b[39m X\n\u001b[1;32m    537\u001b[0m \u001b[39melif\u001b[39;00m no_val_X \u001b[39mand\u001b[39;00m \u001b[39mnot\u001b[39;00m no_val_y:\n",
      "File \u001b[0;32m~/.local/lib/python3.10/site-packages/sklearn/utils/validation.py:877\u001b[0m, in \u001b[0;36mcheck_array\u001b[0;34m(array, accept_sparse, accept_large_sparse, dtype, order, copy, force_all_finite, ensure_2d, allow_nd, ensure_min_samples, ensure_min_features, estimator, input_name)\u001b[0m\n\u001b[1;32m    875\u001b[0m         array \u001b[39m=\u001b[39m xp\u001b[39m.\u001b[39mastype(array, dtype, copy\u001b[39m=\u001b[39m\u001b[39mFalse\u001b[39;00m)\n\u001b[1;32m    876\u001b[0m     \u001b[39melse\u001b[39;00m:\n\u001b[0;32m--> 877\u001b[0m         array \u001b[39m=\u001b[39m _asarray_with_order(array, order\u001b[39m=\u001b[39;49morder, dtype\u001b[39m=\u001b[39;49mdtype, xp\u001b[39m=\u001b[39;49mxp)\n\u001b[1;32m    878\u001b[0m \u001b[39mexcept\u001b[39;00m ComplexWarning \u001b[39mas\u001b[39;00m complex_warning:\n\u001b[1;32m    879\u001b[0m     \u001b[39mraise\u001b[39;00m \u001b[39mValueError\u001b[39;00m(\n\u001b[1;32m    880\u001b[0m         \u001b[39m\"\u001b[39m\u001b[39mComplex data not supported\u001b[39m\u001b[39m\\n\u001b[39;00m\u001b[39m{}\u001b[39;00m\u001b[39m\\n\u001b[39;00m\u001b[39m\"\u001b[39m\u001b[39m.\u001b[39mformat(array)\n\u001b[1;32m    881\u001b[0m     ) \u001b[39mfrom\u001b[39;00m \u001b[39mcomplex_warning\u001b[39;00m\n",
      "File \u001b[0;32m~/.local/lib/python3.10/site-packages/sklearn/utils/_array_api.py:185\u001b[0m, in \u001b[0;36m_asarray_with_order\u001b[0;34m(array, dtype, order, copy, xp)\u001b[0m\n\u001b[1;32m    182\u001b[0m     xp, _ \u001b[39m=\u001b[39m get_namespace(array)\n\u001b[1;32m    183\u001b[0m \u001b[39mif\u001b[39;00m xp\u001b[39m.\u001b[39m\u001b[39m__name__\u001b[39m \u001b[39min\u001b[39;00m {\u001b[39m\"\u001b[39m\u001b[39mnumpy\u001b[39m\u001b[39m\"\u001b[39m, \u001b[39m\"\u001b[39m\u001b[39mnumpy.array_api\u001b[39m\u001b[39m\"\u001b[39m}:\n\u001b[1;32m    184\u001b[0m     \u001b[39m# Use NumPy API to support order\u001b[39;00m\n\u001b[0;32m--> 185\u001b[0m     array \u001b[39m=\u001b[39m numpy\u001b[39m.\u001b[39;49masarray(array, order\u001b[39m=\u001b[39;49morder, dtype\u001b[39m=\u001b[39;49mdtype)\n\u001b[1;32m    186\u001b[0m     \u001b[39mreturn\u001b[39;00m xp\u001b[39m.\u001b[39masarray(array, copy\u001b[39m=\u001b[39mcopy)\n\u001b[1;32m    187\u001b[0m \u001b[39melse\u001b[39;00m:\n",
      "\u001b[0;31mValueError\u001b[0m: could not convert string to float: 'no'"
     ]
    }
   ],
   "source": [
    "X = df3.values\n",
    "# Using the standard scaler method to standardize all of the features by converting them into values between -3 and +3.\n",
    "from sklearn.preprocessing import StandardScaler\n",
    "X = StandardScaler().fit_transform(X)"
   ]
  },
  {
   "cell_type": "code",
   "execution_count": null,
   "id": "449f9e90",
   "metadata": {},
   "outputs": [],
   "source": []
  }
 ],
 "metadata": {
  "kernelspec": {
   "display_name": "Python 3 (ipykernel)",
   "language": "python",
   "name": "python3"
  },
  "language_info": {
   "codemirror_mode": {
    "name": "ipython",
    "version": 3
   },
   "file_extension": ".py",
   "mimetype": "text/x-python",
   "name": "python",
   "nbconvert_exporter": "python",
   "pygments_lexer": "ipython3",
   "version": "3.10.6"
  }
 },
 "nbformat": 4,
 "nbformat_minor": 5
}
